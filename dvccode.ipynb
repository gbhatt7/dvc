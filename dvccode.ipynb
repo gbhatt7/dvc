{
 "cells": [
  {
   "cell_type": "code",
   "execution_count": 1,
   "metadata": {},
   "outputs": [
    {
     "name": "stdout",
     "output_type": "stream",
     "text": [
      "csv file saved to data/sample.csv\n"
     ]
    }
   ],
   "source": [
    "import pandas as pd\n",
    "import os\n",
    "\n",
    "data = {'name':['orbit','rdx','bamdi'],\n",
    "        'age':[7,2,19],\n",
    "        'city': ['delhi','haridwar','pauri ']}\n",
    "\n",
    "df= pd.DataFrame(data)\n",
    "\n",
    "data_dir= 'data'\n",
    "os.makedirs(data_dir, exist_ok=True)\n",
    "\n",
    "file_path = os.path.join(data_dir, 'sample.csv')\n",
    "\n",
    "df.to_csv(file_path, index=False)\n",
    "\n",
    "print(f\"csv file saved to {file_path}\")"
   ]
  },
  {
   "cell_type": "code",
   "execution_count": null,
   "metadata": {},
   "outputs": [],
   "source": []
  }
 ],
 "metadata": {
  "kernelspec": {
   "display_name": "cv",
   "language": "python",
   "name": "python3"
  },
  "language_info": {
   "codemirror_mode": {
    "name": "ipython",
    "version": 3
   },
   "file_extension": ".py",
   "mimetype": "text/x-python",
   "name": "python",
   "nbconvert_exporter": "python",
   "pygments_lexer": "ipython3",
   "version": "3.10.14"
  }
 },
 "nbformat": 4,
 "nbformat_minor": 2
}
